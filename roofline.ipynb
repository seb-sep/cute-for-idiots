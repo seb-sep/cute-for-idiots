{
 "cells": [
  {
   "cell_type": "code",
   "execution_count": null,
   "metadata": {
    "vscode": {
     "languageId": "plaintext"
    }
   },
   "outputs": [],
   "source": [
    "# fp32\n",
    "Cutlass time: 0.313692 ms\n",
    "Cutlass TFLOPS: 0.855729\n",
    "cuBLAS time: 0.0353485 ms\n",
    "cuBLAS TFLOPS: 7.59397\n",
    "\n",
    "\n",
    "# bf16\n",
    "Cutlass time: 0.312464 ms\n",
    "Cutlass TFLOPS: 0.859094\n",
    "cuBLAS time: 0.0139981 ms\n",
    "cuBLAS TFLOPS: 19.1766"
   ]
  },
  {
   "cell_type": "code",
   "execution_count": null,
   "metadata": {},
   "outputs": [],
   "source": [
    "\n"
   ]
  }
 ],
 "metadata": {
  "language_info": {
   "name": "python"
  }
 },
 "nbformat": 4,
 "nbformat_minor": 2
}
